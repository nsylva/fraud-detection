{
 "cells": [
  {
   "cell_type": "code",
   "execution_count": 1,
   "metadata": {},
   "outputs": [],
   "source": [
    "#imports\n",
    "import pandas as pd\n",
    "import matplotlib.pyplot as plt\n",
    "import numpy as np\n",
    "import category_encoders as ce\n",
    "from sklearn.decomposition import PCA\n",
    "from sklearn.impute import SimpleImputer\n",
    "from matplotlib.colors import LogNorm,ListedColormap\n",
    "from mpl_toolkits.mplot3d import Axes3D\n",
    "from matplotlib import cm\n",
    "from imblearn.over_sampling import SMOTE\n",
    "from sklearn.model_selection import train_test_split\n",
    "from sklearn.linear_model import LogisticRegression\n",
    "import sklearn.metrics as metrics\n",
    "from sklearn.preprocessing import Normalizer\n",
    "from sklearn.preprocessing import StandardScaler\n",
    "from sklearn.ensemble import RandomForestClassifier\n",
    "from xgboost import XGBClassifier\n",
    "\n",
    "%matplotlib inline"
   ]
  },
  {
   "cell_type": "code",
   "execution_count": 2,
   "metadata": {},
   "outputs": [],
   "source": [
    "#data import\n",
    "train_identity = pd.read_csv('../data/train_identity.csv')\n",
    "train_transactions = pd.read_csv('../data/train_transaction.csv')\n",
    "test_identity = pd.read_csv('../data/test_identity.csv')\n",
    "test_transactions = pd.read_csv('../data/test_transaction.csv')\n",
    "\n",
    "#split off y values\n",
    "train_target = train_transactions['isFraud']\n",
    "train_transactions = train_transactions.drop('isFraud',axis = 1)\n",
    "\n",
    "# join the datasets\n",
    "train_combined = train_transactions.set_index('TransactionID').join(train_identity.set_index('TransactionID'))\n",
    "test_combined = test_transactions.set_index('TransactionID').join(test_identity.set_index('TransactionID'))\n",
    "\n",
    "#split the data up\n",
    "X_train, X_dev, y_train, y_dev = train_test_split(train_combined, train_target, test_size=0.10, random_state=42)\n",
    "\n",
    "del train_transactions\n",
    "del train_identity\n",
    "del train_combined"
   ]
  },
  {
   "cell_type": "code",
   "execution_count": 3,
   "metadata": {},
   "outputs": [],
   "source": [
    "def encode_categoricals(X,y,encoding_types = {}):\n",
    "    '''\n",
    "    Encodes defined columns according to encoding_types dict\n",
    "    X: input features, should be able to handle pandas df or np array\n",
    "    y: ouput labels, only used for types of cat encoders that require it, np array or pandas series/df slice\n",
    "    #uid: unique id for joining things back together\n",
    "    encoding_types: dictionary defining which encoding types to use for which columns\n",
    "    See categorical encoder for types of encoders. Use categorical encoder method name as string for keys in dict.\n",
    "    http://contrib.scikit-learn.org/categorical-encoding/\n",
    "    Example encoding_types dict:\n",
    "    {'OneHotEncoder': ['DeviceType','id_12','id_15'], 'BinaryEncoder': ['id_18', 'id_24']}\n",
    "    '''\n",
    "    for encoding_type, columns in encoding_types.items():\n",
    "        if encoding_type == 'BackwardDifferenceEncoder' :\n",
    "            #the mean of the dependent variable for one level of the categoricalvariable is compared to the\n",
    "            #mean of the dependent variable for the prior adjacent level.\n",
    "            encoder = ce.BackwardDifferenceEncoder(cols=columns, return_df=True)\n",
    "        \n",
    "        elif encoding_type == 'BaseNEncoder':\n",
    "            encoder = ce.BaseNEncoder(cols=columns, return_df=True)\n",
    "        \n",
    "        elif encoding_type == 'BinaryEncoder':\n",
    "            #first the categories are encoded asordinal, then those integers are converted into binary code,\n",
    "            #then the digits from that binary string are split into separate columns\n",
    "            encoder = ce.BinaryEncoder(cols=columns, return_df=True)\n",
    "        \n",
    "        elif encoding_type == 'CatBoostEncoder':\n",
    "            encoder = ce.CatBoostEncoder(cols=columns, return_df=True)\n",
    "        \n",
    "        elif encoding_type == 'HashingEncoder':\n",
    "            encoder = ce.HashingEncoder(cols=columns, return_df=True)\n",
    "        \n",
    "        elif encoding_type == 'HelmertEncoder':\n",
    "            #Helmert Coding compares each level of a categorical variable to the mean of the subsequent levels\n",
    "            encoder = ce.HelmertEncoder(cols=columns, return_df=True)\n",
    "        \n",
    "        elif encoding_type == 'JamesSteinEncoder':\n",
    "            #not useful for binary classification, see doc string in source:\n",
    "            #https://github.com/scikit-learn-contrib/categorical-encoding/blob/master/category_encoders/james_stein.py\n",
    "            encoder = ce.JamesSteinEncoder(cols=columns, return_df=True)\n",
    "        \n",
    "        elif encoding_type == 'LeaveOneOutEncoder':\n",
    "            encoder = ce.LeaveOneOutEncoder(cols=columns, return_df=True)\n",
    "        \n",
    "        elif encoding_type == 'MEstimateEncoder':\n",
    "            #simplified target encoder. See source:\n",
    "            #https://github.com/scikit-learn-contrib/categorical-encoding/blob/master/category_encoders/m_estimate.py\n",
    "            encoder = ce.MEstimateEncoder(cols=columns, return_df=True)\n",
    "        \n",
    "        elif encoding_type == 'OneHotEncoder':\n",
    "            #useful for nominal categorical variables with low cardinality (few unique categories)\n",
    "            encoder = ce.OneHotEncoder(cols=columns, return_df=True)\n",
    "        \n",
    "        elif encoding_type == 'OrdinalEncoder':\n",
    "            #an integer is assigned to each category, provided the number of existing categories are known.\n",
    "            #It does not add any newcolumns to the data, but implies an order to the variable that may not \n",
    "            #actually exist\n",
    "            encoder = ce.OrdinalEncoder(cols=columns, return_df=True)\n",
    "       \n",
    "        elif encoding_type == 'SumEncoder':\n",
    "            #Sum coding compares the mean of the dependent variable for a given level to the overall mean of\n",
    "            #the dependent variable over all the levels.\n",
    "            encoder = ce.SumEncoder(cols=columns, return_df=True)\n",
    "        \n",
    "        elif encoding_type == 'PolynomialEncoder':\n",
    "            #Looks for polynomial trends in the categorical variable. Should only be used with an ordinal variable\n",
    "            #where the levels are equally spaced\n",
    "            encoder = ce.PolynomialEncoder(cols=columns, return_df=True)\n",
    "        \n",
    "        elif encoding_type == 'TargetEncoder':\n",
    "            encoder = ce.TargetEncoder(cols=columns, return_df=True)\n",
    "        \n",
    "        elif encoding_type == 'WOEEncoder':\n",
    "            #Combine categories with similar weight-of-evidence and then create new categories of an \n",
    "            #independent variable with continuous weight-of-evidence values.\n",
    "            encoder = ce.WOEEncoder(cols=columns, return_df=True)\n",
    "        \n",
    "        else:\n",
    "            raise TypeError('Invalid encoder selected. See Categorical Encoder docs:\\nhttp://contrib.scikit-learn.org/categorical-encoding/')\n",
    "            \n",
    "        encoder.fit(X, y)\n",
    "        X = encoder.transform(X)\n",
    "        \n",
    "    return X"
   ]
  },
  {
   "cell_type": "code",
   "execution_count": 4,
   "metadata": {},
   "outputs": [],
   "source": [
    "# --Identity Categorical Variables--\n",
    "#Can be OHE:\n",
    "# - DeviceType -> 2 cols (140810 values)\n",
    "# - id_12 -> 2 cols (144233 values)\n",
    "# - id_15 -> 3 cols (140985 values)\n",
    "# - id_16 -> 2 cols (129340 values)\n",
    "# - id_23 -> 3 cols (5169 values)\n",
    "# - id_27 -> 2 cols (5169 values)\n",
    "# - id_28 -> 2 cols (140978 values)\n",
    "# - id_29 -> 2 cols (140978 values)\n",
    "# - id_32 -> 4 cols (77586 values)\n",
    "# - id_34 -> 4 cols (77805 values)\n",
    "# - id_35 -> 2 cols (140985 values)\n",
    "# - id_36 -> 2 cols (140985 values)\n",
    "# - id_37 -> 2 cols (140985 values)\n",
    "# - id_38 -> 2 cols (140985 values)\n",
    "\n",
    "#might be able to be cleaned for ohe, investigate:\n",
    "# - DeviceInfo 1786 cols if not ohe (118666 values)\n",
    "# - id_30 75 cols, appears to be OS (77565 values)\n",
    "# - id_31 130 cols, appears to be browser (140282 values)\n",
    "# - id_33 261 cols, appears to be resolution (73289 values), may be able to turn into ratio?\n",
    "\n",
    "#Will not OHE\n",
    "# - id_13: numeric min 10, max 64, all ints, 55 vals inc null (127320 values)\n",
    "# - id_14: numeric min -660, max 720, all ints, 26 vals inc null (80044 values)\n",
    "# - id_17: numeric min 100, max 229, all ints, 105 vals inc null (139369 values)\n",
    "# - id_18: numeric min 10, max 29, all ints, 19 vals inc null (45113 values)\n",
    "# - id_19: numeric min 100, max 671, all ints, 523 vals inc null (139318 values)\n",
    "# - id_20: numeric min 100, max 661, all ints, 395 vals inc null (139261 values)\n",
    "# - id_21: numeric min 100, max 854, all ints, 491 vals inc null (5159 values)\n",
    "# - id_22: numeric min 10, max 44, all ints, 26 vals inc null (5169 values)\n",
    "# - id_24: numeric min 11, max 26, all ints, 13 vals inc null (4747 values)\n",
    "# - id_25: numeric min 100, max 548, all ints, 342 vals inc null (5132 values)\n",
    "# - id_26: numeric min 100, max 216, all ints, 96 vals inc null (5163 values)\n",
    "\n",
    "# --Transaction Categorical Variables--\n",
    "# Can OHE \n",
    "#'ProductCD','card4','card6','M1','M2','M3','M4','M5','M6','M7','M8','M9'\n",
    "\n",
    "# Cannot OHE (too much cardinality)\n",
    "# 'P_emaildomain','R_emaildomain','card1','card2','card3','card5','addr1','addr2'\n",
    "\n",
    "# We want to minimize info loss so not using encoders than will result in that.\n",
    "# Cannot assume ordinality  or interval equality for categories not knowing the meaning of the categories\n",
    "# How do encoders like Weight of Evidence work if we don't have labels for test data? -> assumed value like 0.5\n",
    "\n",
    "#Per this flow chart we should use a Leave One Out If we want to control for outliers. This is for the columns that we cannot OHE.\n",
    "\n",
    "#let's do that for now and assess performance. Will probably need to do some kind of cross validation to find optimal values for sigma\n",
    "encoding_types_transaction = {'OneHotEncoder':['ProductCD','card4','card6','M1','M2',\\\n",
    "                                               'M3','M4','M5','M6','M7','M8','M9'],\\\n",
    "                              'LeaveOneOutEncoder': ['P_emaildomain','R_emaildomain','card1',\\\n",
    "                                                     'card2','card3','card5','addr1','addr2']}\n",
    "\n",
    "\n",
    "encoding_types_identity = {'OneHotEncoder': ['DeviceType','id_12','id_15','id_16','id_23','id_27','id_28',\\\n",
    "                                             'id_29','id_32','id_34','id_35','id_36','id_37','id_38'],\\\n",
    "                           'LeaveOneOutEncoder': ['DeviceInfo','id_13','id_14','id_17','id_18','id_19',\\\n",
    "                                                  'id_20','id_21','id_22','id_24','id_25','id_26','id_30',\\\n",
    "                                                  'id_31','id_33']}\n",
    "\n",
    "#combined the encoding types into one dict because we are joining the data\n",
    "train_encoding_types = {'OneHotEncoder': encoding_types_transaction['OneHotEncoder'] + encoding_types_identity['OneHotEncoder'],\\\n",
    "                           'LeaveOneOutEncoder' : encoding_types_transaction['LeaveOneOutEncoder'] + encoding_types_identity['LeaveOneOutEncoder']}\n",
    "\n",
    "dev_encoding_types = {'OneHotEncoder': encoding_types_transaction['OneHotEncoder'] + encoding_types_identity['OneHotEncoder']}\n",
    "\n",
    "#drop datetime and id because it adds const variance\n",
    "X_train = X_train.drop(['TransactionDT'],axis = 1)\n",
    "X_dev = X_dev.drop(['TransactionDT'],axis = 1)\n",
    "\n",
    "\n",
    "X_train = clean_up(X_train,y_train,train_encoding_types)\n",
    "\n",
    "# need to fill in 0.5 for all LOO encoded columns in dev set\n",
    "X_dev[train_encoding_types['LeaveOneOutEncoder']] = 0.5\n",
    "\n",
    "X_dev = enc(X_dev,None,dev_encoding_types)\n",
    "\n"
   ]
  },
  {
   "cell_type": "code",
   "execution_count": 5,
   "metadata": {},
   "outputs": [],
   "source": [
    "#Need to remove columns that don't exist in test/dev data\n",
    "shared_cols = X_train.columns & X_dev.columns\n",
    "\n",
    "X_train = X_train[shared_cols]\n",
    "X_dev = X_dev[shared_cols]"
   ]
  },
  {
   "cell_type": "code",
   "execution_count": 6,
   "metadata": {},
   "outputs": [
    {
     "name": "stdout",
     "output_type": "stream",
     "text": [
      "Index(['TransactionAmt', 'ProductCD_1', 'ProductCD_2', 'ProductCD_3',\n",
      "       'ProductCD_4', 'ProductCD_5', 'card1', 'card2', 'card3', 'card4_1',\n",
      "       ...\n",
      "       'id_37_1', 'id_37_2', 'id_37_3', 'id_38_1', 'id_38_2', 'id_38_3',\n",
      "       'DeviceType_1', 'DeviceType_2', 'DeviceType_3', 'DeviceInfo'],\n",
      "      dtype='object', length=495)\n"
     ]
    }
   ],
   "source": [
    "print(shared_cols)"
   ]
  },
  {
   "cell_type": "code",
   "execution_count": 6,
   "metadata": {},
   "outputs": [],
   "source": [
    "#impute null values\n",
    "imputer = SimpleImputer(copy=False,strategy = 'constant', fill_value = 0)\n",
    "X_train = imputer.fit_transform(X_train)\n",
    "imputer = SimpleImputer(copy=False,strategy = 'constant', fill_value = 0)\n",
    "X_dev = imputer.fit_transform(X_dev)\n",
    "\n",
    "#normalize\n",
    "#transformer = Normalizer(copy=False)\n",
    "transformer = StandardScaler(copy = False)\n",
    "X_train= transformer.fit_transform(X_train)\n",
    "transformer = StandardScaler(copy = False)\n",
    "X_dev = transformer.fit_transform(X_dev)"
   ]
  },
  {
   "cell_type": "code",
   "execution_count": 7,
   "metadata": {},
   "outputs": [
    {
     "name": "stdout",
     "output_type": "stream",
     "text": [
      "(666811, 495) (666811,)\n"
     ]
    }
   ],
   "source": [
    "#use smote\n",
    "smote = SMOTE(random_state = 42,sampling_strategy = 0.3, n_jobs = -1)\n",
    "X_train_res, y_train_res = smote.fit_resample(X_train, y_train)\n",
    "print(X_train_res.shape,y_train_res.shape)\n",
    "del X_train, y_train"
   ]
  },
  {
   "cell_type": "code",
   "execution_count": 16,
   "metadata": {},
   "outputs": [],
   "source": [
    "#initialize PCA\n",
    "pca = PCA()\n",
    "#fit PCA to training data\n",
    "pca_data = pca.fit(X_train_res)\n",
    "\n"
   ]
  },
  {
   "cell_type": "code",
   "execution_count": 17,
   "metadata": {},
   "outputs": [
    {
     "data": {
      "image/png": "[encoded data removed]",
      "text/plain": [
       "<Figure size 720x360 with 1 Axes>"
      ]
     },
     "metadata": {
      "needs_background": "light"
     },
     "output_type": "display_data"
    }
   ],
   "source": [
    "#get num of components\n",
    "nc = pca.components_.shape[0]\n",
    "    \n",
    "#generate k values\n",
    "ks = np.linspace(1,nc,num=nc)\n",
    "    \n",
    "#initialize a list to hold cumulate explained variance ratios\n",
    "evrs = []\n",
    "ev = 0 #cumulative explained variance\n",
    "#loop over explained variance ratios for each component of the data\n",
    "for evr in pca.explained_variance_ratio_:\n",
    "    #add to cumulative explained variance\n",
    "    ev += evr\n",
    "    #add the current cumulatove explained variance to the list\n",
    "    evrs.append(ev)\n",
    "    \n",
    "    \n",
    "#plot the results.\n",
    "fig = plt.figure(figsize = (10,5))\n",
    "plt.plot(ks[:50],evrs[:50],linewidth=2.5)\n",
    "plt.title('Fraction of Total Variance for first 50 Principal Components',fontsize = 16)\n",
    "plt.xlabel('k-th Principal Component',fontsize = 12)    \n",
    "plt.ylabel('Fraction of Total Variance',fontsize = 12)\n",
    "plt.show()"
   ]
  },
  {
   "cell_type": "code",
   "execution_count": 18,
   "metadata": {},
   "outputs": [],
   "source": [
    "#initialize PCA with two principal components\n",
    "pca = PCA(n_components=2)\n",
    "#perform PCA on the traing data \n",
    "pca_data = pca.fit_transform(X_train_res)\n",
    "#create individual arrays for X and Y principal components\n",
    "X = np.array([i[0] for i in pca_data])\n",
    "Y = np.array([i[1] for i in pca_data])\n",
    " \n"
   ]
  },
  {
   "cell_type": "code",
   "execution_count": 25,
   "metadata": {},
   "outputs": [
    {
     "name": "stdout",
     "output_type": "stream",
     "text": [
      "[0 0 0 ... 0 0 1]\n"
     ]
    }
   ],
   "source": [
    "print(y_train.values)"
   ]
  },
  {
   "cell_type": "code",
   "execution_count": 19,
   "metadata": {},
   "outputs": [],
   "source": [
    "y_train = np.array(y_train_res)\n",
    "\n",
    "# split the df into positive and negative cases\n",
    "fraud_indices = [True if y_train[i] == 1 else False for i in range(len(y_train))]\n",
    "not_fraud_indices = [True if y_train[i] == 0 else False for i in range(len(y_train))]\n",
    "\n",
    "X_fraud = X[fraud_indices]\n",
    "X_not_fraud = X[not_fraud_indices]\n",
    "Y_fraud = Y[fraud_indices]\n",
    "Y_not_fraud = Y[not_fraud_indices]\n",
    "\n",
    "\n",
    "#generate a color map from the labels. Positive (fraud cases) are mapped as blue and negative (non-fraud)\n",
    "#cases are mapped as red.\n",
    "colors = ['blue' if i == 1 else 'red' for i in y_train]\n",
    " \n",
    "\n",
    "\n",
    "\n",
    "# look at cut point for floor of chart.\n",
    "# find number of points above and below that cut point. Maybe this is related to the imputation and lack of\n",
    "# identity values for 75% of the dataset."
   ]
  },
  {
   "cell_type": "code",
   "execution_count": 37,
   "metadata": {},
   "outputs": [
    {
     "name": "stdout",
     "output_type": "stream",
     "text": [
      "(531486,) (531486, 495)\n"
     ]
    }
   ],
   "source": [
    "print(y_train.shape,X_train.shape)"
   ]
  },
  {
   "cell_type": "code",
   "execution_count": 20,
   "metadata": {},
   "outputs": [
    {
     "data": {
      "image/png": "[encoded data removed]",
      "text/plain": [
       "<Figure size 720x720 with 1 Axes>"
      ]
     },
     "metadata": {
      "needs_background": "light"
     },
     "output_type": "display_data"
    }
   ],
   "source": [
    "#plot the data\n",
    "fig = plt.figure(figsize = (10,10))\n",
    "plt.scatter(X_not_fraud,Y_not_fraud, c = 'red',marker='.',s=5)\n",
    "plt.scatter(X_fraud,Y_fraud, c = 'blue',marker='.',s=5)\n",
    "\n",
    "\n",
    "\n",
    "plt.title('Training Data Projected to 2-D',fontsize = 16)\n",
    "plt.xlabel('Principal Component 1',fontsize = 12)\n",
    "plt.ylabel('Principal Component 2',fontsize = 12)\n",
    "plt.show()"
   ]
  },
  {
   "cell_type": "code",
   "execution_count": 45,
   "metadata": {},
   "outputs": [
    {
     "name": "stdout",
     "output_type": "stream",
     "text": [
      "(769398, 495)\n"
     ]
    }
   ],
   "source": [
    "print(X_train_res.shape)"
   ]
  },
  {
   "cell_type": "code",
   "execution_count": null,
   "metadata": {},
   "outputs": [],
   "source": [
    "#plot the data\n",
    "fig = plt.figure(figsize = (10,10))\n",
    "plt.scatter(X_not_fraud,Y_not_fraud, c = 'red',marker='.',s=5)\n",
    "plt.scatter(X_fraud,Y_fraud, c = 'blue',marker='.',s=5)\n",
    "\n",
    "plt.title('Training Data Projected to 2-D - Limited PC2',fontsize = 16)\n",
    "plt.xlabel('Principal Component 1',fontsize = 12)\n",
    "plt.ylabel('Principal Component 2',fontsize = 12)\n",
    "#plt.ylim(-15000,80000)\n",
    "plt.show()"
   ]
  },
  {
   "cell_type": "code",
   "execution_count": 18,
   "metadata": {},
   "outputs": [],
   "source": [
    "def calc_under_over(data,threshold = 0):\n",
    "    total = len(data)\n",
    "    under = np.sum([1 if i <= threshold else 0 for i in data])\n",
    "    over = np.sum([1 if i > threshold else 0 for i in data])\n",
    "    perc_under = under/total\n",
    "    perc_over = over/total\n",
    "    return perc_under, perc_over"
   ]
  },
  {
   "cell_type": "code",
   "execution_count": 19,
   "metadata": {},
   "outputs": [
    {
     "name": "stdout",
     "output_type": "stream",
     "text": [
      "Principal Component 2 Threshold: 0\n",
      "Fraud Under: 0.556988 | Fraud Over: 0.443012\n",
      "Not Fraud Under: 0.824046 | Not Fraud Over: 0.175954\n",
      "Total Under: 0.735027 | Total Over: 0.264973\n"
     ]
    }
   ],
   "source": [
    "t = 0\n",
    "print('Principal Component 2 Threshold: %i'%t)\n",
    "print('Fraud Under: %3f | Fraud Over: %3f'%calc_under_over(X_fraud,t))\n",
    "print('Not Fraud Under: %3f | Not Fraud Over: %3f'%calc_under_over(X_not_fraud,t))\n",
    "print('Total Under: %3f | Total Over: %3f'%calc_under_over(X,t))"
   ]
  },
  {
   "cell_type": "code",
   "execution_count": 8,
   "metadata": {},
   "outputs": [
    {
     "name": "stdout",
     "output_type": "stream",
     "text": [
      "AUC ROC: 0.717\n",
      "[[56875    70]\n",
      " [ 1808   301]]\n",
      "              precision    recall  f1-score   support\n",
      "\n",
      "           0       0.97      1.00      0.98     56945\n",
      "           1       0.81      0.14      0.24      2109\n",
      "\n",
      "    accuracy                           0.97     59054\n",
      "   macro avg       0.89      0.57      0.61     59054\n",
      "weighted avg       0.96      0.97      0.96     59054\n",
      "\n"
     ]
    }
   ],
   "source": [
    "clf = LogisticRegression(penalty = 'l2', tol = 0.01, random_state=42, solver = 'saga').fit(X_train_res, y_train_res)\n",
    "predictions = clf.predict(X_dev)\n",
    "probs = clf.predict_proba(X_dev)\n",
    "roc_auc = metrics.roc_auc_score(y_dev,[p[1] for p in probs])\n",
    "print('AUC ROC: %.3f'%roc_auc)\n",
    "print(metrics.confusion_matrix(y_dev,predictions, labels = [0,1]))\n",
    "print(metrics.classification_report(y_dev,predictions))"
   ]
  },
  {
   "cell_type": "code",
   "execution_count": 9,
   "metadata": {},
   "outputs": [
    {
     "name": "stdout",
     "output_type": "stream",
     "text": [
      "AUC ROC: 0.687\n",
      "[[14959 41986]\n",
      " [   98  2011]]\n",
      "              precision    recall  f1-score   support\n",
      "\n",
      "           0       0.99      0.26      0.42     56945\n",
      "           1       0.05      0.95      0.09      2109\n",
      "\n",
      "    accuracy                           0.29     59054\n",
      "   macro avg       0.52      0.61      0.25     59054\n",
      "weighted avg       0.96      0.29      0.40     59054\n",
      "\n"
     ]
    }
   ],
   "source": [
    "\n",
    "clf = RandomForestClassifier(random_state=42,n_jobs=-1,n_estimators=100).fit(X_train_res, y_train_res)\n",
    "predictions = clf.predict(X_dev)\n",
    "probs = clf.predict_proba(X_dev)\n",
    "roc_auc = metrics.roc_auc_score(y_dev,[p[1] for p in probs])\n",
    "print('AUC ROC: %.3f'%roc_auc)\n",
    "print(metrics.confusion_matrix(y_dev,predictions, labels = [0,1]))\n",
    "print(metrics.classification_report(y_dev,predictions))"
   ]
  },
  {
   "cell_type": "code",
   "execution_count": 8,
   "metadata": {},
   "outputs": [
    {
     "name": "stdout",
     "output_type": "stream",
     "text": [
      "AUC ROC: 0.646\n",
      "[[    3 56942]\n",
      " [    0  2109]]\n",
      "              precision    recall  f1-score   support\n",
      "\n",
      "           0       1.00      0.00      0.00     56945\n",
      "           1       0.04      1.00      0.07      2109\n",
      "\n",
      "    accuracy                           0.04     59054\n",
      "   macro avg       0.52      0.50      0.03     59054\n",
      "weighted avg       0.97      0.04      0.00     59054\n",
      "\n"
     ]
    }
   ],
   "source": [
    "clf = XGBClassifier(n_jobs = -1).fit(X_train_res, y_train_res)\n",
    "predictions = clf.predict(X_dev)\n",
    "probs = clf.predict_proba(X_dev)\n",
    "roc_auc = metrics.roc_auc_score(y_dev,[p[1] for p in probs])\n",
    "print('AUC ROC: %.3f'%roc_auc)\n",
    "print(metrics.confusion_matrix(y_dev,predictions, labels = [0,1]))\n",
    "print(metrics.classification_report(y_dev,predictions))"
   ]
  },
  {
   "cell_type": "code",
   "execution_count": 9,
   "metadata": {},
   "outputs": [
    {
     "name": "stdout",
     "output_type": "stream",
     "text": [
      "Num Fraud (True): 2109\n",
      "Num Not Fraud (True): 56945\n",
      "Num Fraud (Predicted): 59051\n",
      "Num Not Fraud (Predicted): 3\n"
     ]
    }
   ],
   "source": [
    "print('Num Fraud (True): %i'%sum([1 if i == 1 else 0 for i in y_dev]))\n",
    "print('Num Not Fraud (True): %i'%sum([1 if i == 0 else 0 for i in y_dev]))\n",
    "print('Num Fraud (Predicted): %i'%sum([1 if i == 1 else 0 for i in predictions]))\n",
    "print('Num Not Fraud (Predicted): %i'%sum([1 if i == 0 else 0 for i in predictions]))"
   ]
  },
  {
   "cell_type": "code",
   "execution_count": null,
   "metadata": {},
   "outputs": [],
   "source": []
  }
 ],
 "metadata": {
  "kernelspec": {
   "display_name": "Python 3 (W207)",
   "language": "python",
   "name": "w207"
  },
  "language_info": {
   "codemirror_mode": {
    "name": "ipython",
    "version": 3
   },
   "file_extension": ".py",
   "mimetype": "text/x-python",
   "name": "python",
   "nbconvert_exporter": "python",
   "pygments_lexer": "ipython3",
   "version": "3.7.3"
  }
 },
 "nbformat": 4,
 "nbformat_minor": 2
}
